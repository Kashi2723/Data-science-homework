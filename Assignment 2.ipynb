{
 "cells": [
  {
   "cell_type": "code",
   "execution_count": null,
   "id": "91b2d879",
   "metadata": {},
   "outputs": [],
   "source": [
    "# 1.What are the two values of the Boolean data type? How do you write them?\n",
    "\n",
    "Ans : The 2 values of Boolean data types are : \"True\" and \"False\"\n",
    "        True\n",
    "        False"
   ]
  },
  {
   "cell_type": "code",
   "execution_count": null,
   "id": "decdf00f",
   "metadata": {},
   "outputs": [],
   "source": [
    "# 2. What are the three different types of Boolean operators?\n",
    "\n",
    "Ans : and, or, not"
   ]
  },
  {
   "cell_type": "code",
   "execution_count": null,
   "id": "e26a92ca",
   "metadata": {},
   "outputs": [],
   "source": [
    "# 3. Make a list of each Boolean operator's truth tables \n",
    "# (i.e. every possible combination of Boolean values for the operator and what it evaluate ).\n",
    "\n",
    "Ans : and : \n",
    "        True True True\n",
    "        False False False\n",
    "        True False False\n",
    "        False True False\n",
    "     \n",
    "    or :\n",
    "        True True True\n",
    "        False False False\n",
    "        True False True\n",
    "        False True True\n",
    "        \n",
    "    not : \n",
    "        True False\n",
    "        False True "
   ]
  },
  {
   "cell_type": "code",
   "execution_count": null,
   "id": "35876828",
   "metadata": {},
   "outputs": [],
   "source": [
    "# 4. What are the values of the following expressions?\n",
    "(5 > 4) and (3 == 5)  : False\n",
    "not (5 > 4)   : False\n",
    "(5 > 4) or (3 == 5) : True\n",
    "not ((5 > 4) or (3 == 5)) : False \n",
    "(True and True) and (True == False)  : False\n",
    "(not False) or (not True)  : True\n"
   ]
  },
  {
   "cell_type": "code",
   "execution_count": null,
   "id": "65407009",
   "metadata": {},
   "outputs": [],
   "source": [
    "# 5. What are the six comparison operators?\n",
    "\n",
    "Ans : equal to == \n",
    "      not equal to  !=\n",
    "      greater than 24 > 12\n",
    "      less than    12 < 24\n",
    "      greater than equal to 24 >= 12\n",
    "      less than equal to   12 <= 24"
   ]
  },
  {
   "cell_type": "code",
   "execution_count": null,
   "id": "9d8f3c6f",
   "metadata": {},
   "outputs": [],
   "source": [
    "# 6. How do you tell the difference between the equal to and assignment operators?\n",
    "# Describe a condition and when you would use one.\n",
    "\n",
    "\n",
    "Ans : equal to ==     eg : 24 == 24\n",
    "      assignment operators =    eg : x = 2 ; value of 2 is x\n",
    " \n",
    "conditions :\n",
    "       x = 2 \n",
    "        if x == 2\n",
    "    "
   ]
  },
  {
   "cell_type": "code",
   "execution_count": 3,
   "id": "5041f3f8",
   "metadata": {},
   "outputs": [
    {
     "name": "stdout",
     "output_type": "stream",
     "text": [
      "ham\n",
      "spam\n",
      "spam\n"
     ]
    }
   ],
   "source": [
    "# 7. Identify the three blocks in this code:\n",
    "spam = 0\n",
    "if spam == 10:\n",
    "    print('eggs')\n",
    "if spam > 5:\n",
    "    print('bacon')\n",
    "else:\n",
    "    print('ham')\n",
    "    print('spam')\n",
    "    print('spam')\n",
    "    \n",
    "Ans : 3 blocks"
   ]
  },
  {
   "cell_type": "code",
   "execution_count": 3,
   "id": "fa629647",
   "metadata": {},
   "outputs": [
    {
     "name": "stdout",
     "output_type": "stream",
     "text": [
      "Enter number : 6\n",
      "Greetings\n"
     ]
    }
   ],
   "source": [
    "# 8. Write code that prints Hello if 1 is stored in spam, prints Howdy if 2 is stored in spam, \n",
    "# and prints Greetings! if anything else is stored in spam.\n",
    "\n",
    "spam = int(input(\"Enter number : \"))\n",
    "if spam == 1:\n",
    "    print(\"Hello\")\n",
    "elif spam == 2:\n",
    "    print(\"Howdy\")\n",
    "else:\n",
    "    print(\"Greetings\")"
   ]
  },
  {
   "cell_type": "code",
   "execution_count": null,
   "id": "8cc3ac7d",
   "metadata": {},
   "outputs": [],
   "source": [
    "# 9.If your programme is stuck in an endless loop, what keys you’ll press?\n",
    "\n",
    "Ans : Ctrl C"
   ]
  },
  {
   "cell_type": "code",
   "execution_count": null,
   "id": "0d51e831",
   "metadata": {},
   "outputs": [],
   "source": [
    "# 10. How can you tell the difference between break and continue?\n",
    "\n",
    "Ans : break : break stops the loop and go to the next code\n",
    "      continue : continue stop that specific itteration and continue the loop"
   ]
  },
  {
   "cell_type": "code",
   "execution_count": null,
   "id": "f632540e",
   "metadata": {},
   "outputs": [],
   "source": [
    "# 11. In a for loop, what is the difference between range(10), range(0, 10), and range(0, 10, 1)?\n",
    "\n",
    "Ans : range(10) : loop will run from 0 to 9 ( range will start from 0, as no start point is mentioned, and 10 is exculsive)\n",
    "    range(0, 10) : loop will run from 0 to 9 (range will start from 0, as start point is mentioned to start from 0)\n",
    "        range(0, 10, 1) : loop will run from 0 to 9 stepping 1 step."
   ]
  },
  {
   "cell_type": "code",
   "execution_count": 13,
   "id": "3265bf32",
   "metadata": {},
   "outputs": [
    {
     "name": "stdout",
     "output_type": "stream",
     "text": [
      "0\n",
      "1\n",
      "2\n",
      "3\n",
      "4\n",
      "5\n",
      "6\n",
      "7\n",
      "8\n",
      "9\n"
     ]
    }
   ],
   "source": [
    "for i in range(0, 10, 1):\n",
    "    print(i)"
   ]
  },
  {
   "cell_type": "code",
   "execution_count": 15,
   "id": "be2f13fe",
   "metadata": {},
   "outputs": [
    {
     "name": "stdout",
     "output_type": "stream",
     "text": [
      "1\n",
      "2\n",
      "3\n",
      "4\n",
      "5\n",
      "6\n",
      "7\n",
      "8\n",
      "9\n",
      "10\n"
     ]
    }
   ],
   "source": [
    "# 12. Write a short program that prints the numbers 1 to 10 using a for loop. \n",
    "# Then write an equivalent program that prints the numbers 1 to 10 using a while loop.\n",
    "\n",
    "\n",
    "for i in range(1, 11):\n",
    "    print(i)"
   ]
  },
  {
   "cell_type": "code",
   "execution_count": 2,
   "id": "50ba9e17",
   "metadata": {},
   "outputs": [
    {
     "name": "stdout",
     "output_type": "stream",
     "text": [
      "1\n",
      "2\n",
      "3\n",
      "4\n",
      "5\n",
      "6\n",
      "7\n",
      "8\n",
      "9\n",
      "10\n"
     ]
    }
   ],
   "source": [
    "i = 1\n",
    "while i <= 10:\n",
    "    print(i)\n",
    "    i += 1"
   ]
  },
  {
   "cell_type": "code",
   "execution_count": 3,
   "id": "8ab0c2e3",
   "metadata": {},
   "outputs": [
    {
     "ename": "ModuleNotFoundError",
     "evalue": "No module named 'spam'",
     "output_type": "error",
     "traceback": [
      "\u001b[1;31m---------------------------------------------------------------------------\u001b[0m",
      "\u001b[1;31mModuleNotFoundError\u001b[0m                       Traceback (most recent call last)",
      "Cell \u001b[1;32mIn[3], line 3\u001b[0m\n\u001b[0;32m      1\u001b[0m \u001b[38;5;66;03m# 13. If you had a function named bacon() inside a module named spam, how would you call it after importing spam?\u001b[39;00m\n\u001b[1;32m----> 3\u001b[0m \u001b[38;5;28;01mimport\u001b[39;00m \u001b[38;5;21;01mspam\u001b[39;00m\n\u001b[0;32m      4\u001b[0m bacon()\n",
      "\u001b[1;31mModuleNotFoundError\u001b[0m: No module named 'spam'"
     ]
    }
   ],
   "source": [
    "# 13. If you had a function named bacon() inside a module named spam, how would you call it after importing spam?\n",
    "\n",
    "import spam\n",
    "bacon()"
   ]
  },
  {
   "cell_type": "code",
   "execution_count": null,
   "id": "8f0c95a8",
   "metadata": {},
   "outputs": [],
   "source": []
  }
 ],
 "metadata": {
  "kernelspec": {
   "display_name": "Python 3 (ipykernel)",
   "language": "python",
   "name": "python3"
  },
  "language_info": {
   "codemirror_mode": {
    "name": "ipython",
    "version": 3
   },
   "file_extension": ".py",
   "mimetype": "text/x-python",
   "name": "python",
   "nbconvert_exporter": "python",
   "pygments_lexer": "ipython3",
   "version": "3.10.1"
  }
 },
 "nbformat": 4,
 "nbformat_minor": 5
}
