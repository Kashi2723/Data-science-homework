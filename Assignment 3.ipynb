{
 "cells": [
  {
   "cell_type": "code",
   "execution_count": null,
   "id": "3e6949d5",
   "metadata": {},
   "outputs": [],
   "source": [
    "# 1. Why are functions advantageous to have in your programs?\n",
    "\n",
    "Ans. With the help of functions in python, we can avoid rewriting the same \n",
    "code and logic again and again in a program. "
   ]
  },
  {
   "cell_type": "code",
   "execution_count": null,
   "id": "433a8cef",
   "metadata": {},
   "outputs": [],
   "source": [
    "# 2. when does the code in a function run: when it's specified or when it's called ?\n",
    "\n",
    "Ans. When the function is called, it runs."
   ]
  },
  {
   "cell_type": "code",
   "execution_count": null,
   "id": "d488cab5",
   "metadata": {},
   "outputs": [],
   "source": [
    "# 3. What statement creates a function ?\n",
    "\n",
    "Ans. def Even():\n",
    "    \n",
    "Here, Even is a name of the function."
   ]
  },
  {
   "cell_type": "code",
   "execution_count": null,
   "id": "15769c9c",
   "metadata": {},
   "outputs": [],
   "source": [
    "# 4. What is the difference between a function and a function call ?\n",
    "\n",
    "Ans. A Function is a block of code that performs a specific task,\n",
    "while A Function call is an expression that involves \n",
    "a function, where it runs and executes the code in the function.\n",
    "\n",
    "    "
   ]
  },
  {
   "cell_type": "code",
   "execution_count": null,
   "id": "5f479efc",
   "metadata": {},
   "outputs": [],
   "source": [
    "# 5. How many global scopes are there is a python program ? How many local scopes?\n",
    "\n",
    "Ans. In a python program, there is 1 Global scope,\n",
    "and we can have multiple local scopes by creating multiple functions."
   ]
  },
  {
   "cell_type": "code",
   "execution_count": null,
   "id": "f82d0bc1",
   "metadata": {},
   "outputs": [],
   "source": [
    "# 6. What happens to variables in a local scope when the function call returns ?\n",
    "\n",
    "Ans. When the execution of the function terminates (returns), \n",
    "the local variables are destroyed."
   ]
  },
  {
   "cell_type": "code",
   "execution_count": null,
   "id": "a3ebf98b",
   "metadata": {},
   "outputs": [],
   "source": [
    "# 7. What is the concept of a return value ? Is it possible to have a return value in an expression ?\n",
    "\n",
    "Ans. Return value is a value which is returned by a function, when it is completed.\n",
    "And Yes, it is possible to have a return value in an expression.\n",
    "\n",
    "def Number():\n",
    "    c = 20\n",
    "    return c\n",
    "\n",
    "Result = Number()"
   ]
  },
  {
   "cell_type": "code",
   "execution_count": 10,
   "id": "1ed7e2d0",
   "metadata": {},
   "outputs": [
    {
     "name": "stdout",
     "output_type": "stream",
     "text": [
      "None\n"
     ]
    }
   ],
   "source": [
    "# 8. If a function does not have a return statement, what is the return value of a call to that function ?\n",
    "\n",
    "Ans. None\n",
    "\n",
    "def add(a,b):\n",
    "    a + b\n",
    "\n",
    "result = add(2,3)\n",
    "print(result)"
   ]
  },
  {
   "cell_type": "code",
   "execution_count": 16,
   "id": "415bf38c",
   "metadata": {},
   "outputs": [
    {
     "name": "stdout",
     "output_type": "stream",
     "text": [
      "50\n"
     ]
    }
   ],
   "source": [
    "# 9. How do you make a function variable refer to the global variable ?\n",
    "\n",
    "Ans. All global variables can be used in function.\n",
    "\n",
    "a = 20\n",
    "b = 30\n",
    "def num():\n",
    "    add = a + b\n",
    "    return add\n",
    "number = num()\n",
    "print(number)"
   ]
  },
  {
   "cell_type": "code",
   "execution_count": null,
   "id": "cfed8a4c",
   "metadata": {},
   "outputs": [],
   "source": [
    "# 10. what is the data type of None ?\n",
    "\n",
    "Ans. NoneType"
   ]
  },
  {
   "cell_type": "code",
   "execution_count": null,
   "id": "5c569b62",
   "metadata": {},
   "outputs": [],
   "source": [
    "# 11. what does the sentence import areallyourpetsnamederic do ?\n",
    "\n",
    "Ans. import areallyourpetsnamederic is importing a library named as \"areallyourpetsnamederic\""
   ]
  },
  {
   "cell_type": "code",
   "execution_count": 21,
   "id": "ac370b17",
   "metadata": {},
   "outputs": [
    {
     "ename": "ModuleNotFoundError",
     "evalue": "No module named 'spam'",
     "output_type": "error",
     "traceback": [
      "\u001b[1;31m---------------------------------------------------------------------------\u001b[0m",
      "\u001b[1;31mModuleNotFoundError\u001b[0m                       Traceback (most recent call last)",
      "Cell \u001b[1;32mIn[21], line 4\u001b[0m\n\u001b[0;32m      1\u001b[0m \u001b[38;5;66;03m# 12. If you had a bacon() feature in a spam module, what would you call it after importing spam ?\u001b[39;00m\n\u001b[1;32m----> 4\u001b[0m \u001b[38;5;28;01mimport\u001b[39;00m \u001b[38;5;21;01mspam\u001b[39;00m\n\u001b[0;32m      5\u001b[0m spam\u001b[38;5;241m.\u001b[39mbacon()\n\u001b[0;32m      7\u001b[0m OR\n",
      "\u001b[1;31mModuleNotFoundError\u001b[0m: No module named 'spam'"
     ]
    }
   ],
   "source": [
    "# 12. If you had a bacon() feature in a spam module, what would you call it after importing spam ?\n",
    "\n",
    "Ans. \n",
    "\n",
    "import spam\n",
    "spam.bacon()\n",
    "\n",
    "OR\n",
    "\n",
    "from spam import bacon\n",
    "bacon()"
   ]
  },
  {
   "cell_type": "code",
   "execution_count": null,
   "id": "83e42dd8",
   "metadata": {},
   "outputs": [],
   "source": [
    "# 13. what can you do to save a programme from crashing if it encounters an error ?\n",
    "\n",
    "Ans. Error handling concept in python is used to save a programme from crashing if it encounters an error.\n",
    "\n",
    "try\n",
    "except\n",
    "else\n",
    "finally\n",
    "raise keyword is used to raise an exception."
   ]
  },
  {
   "cell_type": "code",
   "execution_count": null,
   "id": "fa13b666",
   "metadata": {},
   "outputs": [],
   "source": [
    "# 14. What is the purpose of the try clause? what is the purpose of the except clause?\n",
    "\n",
    "Ans. The try block clause lets you test a block of code for errors.\n",
    "And The except block clause lets you handle the error."
   ]
  }
 ],
 "metadata": {
  "kernelspec": {
   "display_name": "Python 3 (ipykernel)",
   "language": "python",
   "name": "python3"
  },
  "language_info": {
   "codemirror_mode": {
    "name": "ipython",
    "version": 3
   },
   "file_extension": ".py",
   "mimetype": "text/x-python",
   "name": "python",
   "nbconvert_exporter": "python",
   "pygments_lexer": "ipython3",
   "version": "3.10.1"
  }
 },
 "nbformat": 4,
 "nbformat_minor": 5
}
