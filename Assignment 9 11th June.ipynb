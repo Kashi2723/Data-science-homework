{
 "cells": [
  {
   "cell_type": "code",
   "execution_count": null,
   "id": "3983fab5",
   "metadata": {},
   "outputs": [],
   "source": [
    "# 1. What is a lambda function in Python, and how does it differ from a regular function?\n",
    "\n",
    "Ans. Lambda functions in Python are a way to create small, anonymous, and inline functions. They are also known as anonymous functions \n",
    "because they don't have a name. Lambda functions are defined using the lambda keyword, followed by the function parameters and an expression. \n"
   ]
  },
  {
   "cell_type": "code",
   "execution_count": null,
   "id": "8c55b0c9",
   "metadata": {},
   "outputs": [],
   "source": [
    "# 2. Can a lambda function in Python have multiple arguments? If yes, how can you define and use\n",
    "them?\n",
    "\n",
    "Ans. Yes, a lambda function in Python can have multiple arguments. \n",
    "The general syntax for a lambda function with multiple arguments is:\n",
    "\n",
    "lambda argument1, argument2, argument3... : expression\n",
    "\n",
    "Ex: \n",
    "multiply = lambda a,b : a*b\n",
    "\n",
    "result = multiply(3,4)\n",
    "print(result) \n",
    "\n",
    "In this, a and b are 2 arguments given, and a*b are expression,\n",
    "and when we call lambda function as with the name multiply, it\n",
    "will perform the expression, and will give a result on printing."
   ]
  },
  {
   "cell_type": "code",
   "execution_count": null,
   "id": "89fbb57d",
   "metadata": {},
   "outputs": [],
   "source": [
    "# 3. How are lambda functions typically used in Python? Provide an example use case.\n",
    "\n",
    "Ans. Lambda functions in Python are typically used for short, simple operations where a full function definition is not necessary. \n",
    "They are often employed in situations where you need a small, anonymous function for a short period of time. \n",
    "ex:\n",
    "add = lambda q,w,e,r : q+w+e+r\n",
    "\n",
    "result = add(2,3,4,5)\n",
    "print(result)"
   ]
  },
  {
   "cell_type": "code",
   "execution_count": null,
   "id": "8aed6f90",
   "metadata": {},
   "outputs": [],
   "source": [
    "# 4. What are the advantages and limitations of lambda functions compared to regular functions in\n",
    "Python?\n",
    "\n",
    "Ans.  lambda functions are a concise, anonymous and powerful tool for specific use cases, particularly in functional programming scenarios. \n",
    "However, their limitations make them less suitable for more complex or verbose code, where regular functions are often a better choice. \n",
    "It's essential to strike a balance between conciseness and readability when deciding whether to use lambda functions or regular functions in our code."
   ]
  },
  {
   "cell_type": "code",
   "execution_count": null,
   "id": "f88e6479",
   "metadata": {},
   "outputs": [],
   "source": [
    "# 5. Are lambda functions in Python able to access variables defined outside of their own scope?\n",
    "Explain with an example.\n",
    "\n",
    "Ans. Yes, lambda functions in Python can access variables defined outside of their own scope. This is because lambda functions can capture and \"close over\" variables from their containing scope. \n",
    "The ability to access variables from the outer scope is known as lexical scoping.\n",
    "\n",
    "Ex: \n",
    "def outer_func(x):\n",
    "    inner_lambda = lambda y: x + y\n",
    "    return inner_lambda\n",
    "\n",
    "# Create a closure by calling the outer function\n",
    "closure = outer_function(10)\n",
    "\n",
    "# Use the closure (lambda function) with an argument\n",
    "result = closure(5)\n",
    "\n",
    "print(result)  # Output: 15"
   ]
  },
  {
   "cell_type": "code",
   "execution_count": null,
   "id": "d1fec4a5",
   "metadata": {},
   "outputs": [],
   "source": [
    "# 6. Write a lambda function to calculate the square of a given number.\n",
    "\n",
    "Ans. \n",
    "square = lambda x:x*x\n",
    "\n",
    "result = square(2)\n",
    "print(result)"
   ]
  },
  {
   "cell_type": "code",
   "execution_count": null,
   "id": "29dd227a",
   "metadata": {},
   "outputs": [],
   "source": [
    "# 7. Create a lambda function to find the maximum value in a list of integers.\n",
    "\n",
    "Ans. \n",
    "\n",
    "def num(a):\n",
    "    l1 = []\n",
    "    for i in range(a):\n",
    "        num1 = int(input(\"Enter the number: \"))\n",
    "        l1.append(num1)\n",
    "    return l1\n",
    "\n",
    "digit = int(input(\"Enter the number: \"))\n",
    "l2 = num(digit)\n",
    "print(l2)\n",
    "\n",
    "\n",
    "# Lambda function:\n",
    "\n",
    "max_num = lambda x: max(x)\n",
    "\n",
    "res = max_num(l2)\n",
    "print(res) # output = 986543"
   ]
  },
  {
   "cell_type": "code",
   "execution_count": null,
   "id": "d65a1336",
   "metadata": {},
   "outputs": [],
   "source": [
    "# 8. Implement a lambda function to filter out all the even numbers from a list of integers.\n",
    "\n",
    "Ans. \n",
    "l2 = [324, 435, 654, 5645643, 43564, 23, 23456, 986, 568, 9865432]\n",
    "even = [i for i in l2 if (lambda y: y%2 == 0)(i)]\n",
    "\n",
    "res = even\n",
    "print(res)\n",
    "# output: [324, 654, 43564, 23456, 986, 568, 9865432]\n"
   ]
  },
  {
   "cell_type": "code",
   "execution_count": null,
   "id": "54953d6e",
   "metadata": {},
   "outputs": [],
   "source": [
    "# 9. Write a lambda function to sort a list of strings in ascending order based on the length of each\n",
    "string.\n",
    "\n",
    "Ans. \n",
    "\n",
    "strings = [\"apple\", \"banana\", \"kiwi\", \"orange\", \"pear\"]\n",
    "strings.sort(key = lambda x : len(x))\n",
    "\n",
    "print(strings)"
   ]
  },
  {
   "cell_type": "code",
   "execution_count": null,
   "id": "f3ba3393",
   "metadata": {},
   "outputs": [],
   "source": [
    "# 10. Create a lambda function that takes two lists as input and returns a new list containing the\n",
    "common elements between the two lists.\n",
    "\n",
    "Ans. \n",
    "comm_num = lambda l1,l2: list(set(l1) & set(l2))\n",
    "\n",
    "l1 = [1,2,8,4,5,6]\n",
    "l2 = [6,3,1,5,8,9]\n",
    "\n",
    "res = comm_num(l1,l2)\n",
    "print(res) # output [8, 1, 5, 6]\n"
   ]
  },
  {
   "cell_type": "code",
   "execution_count": null,
   "id": "1b77e8d5",
   "metadata": {},
   "outputs": [],
   "source": [
    "# 11. Write a recursive function to calculate the factorial of a given positive integer.\n",
    "\n",
    "Ans. \n",
    "\n",
    "def factorial(n):\n",
    "    # Base case: factorial of 0 is 1\n",
    "    if n == 0:\n",
    "        return 1\n",
    "    # Recursive case: n! = n * (n-1)!\n",
    "    else:\n",
    "        return n * factorial(n - 1)\n",
    "\n",
    "# Ex:\n",
    "number = 5\n",
    "result = factorial(number)\n",
    "print(f\"The factorial of {number} is {result}\") \n",
    "# output : The factorial of 5 is 120"
   ]
  },
  {
   "cell_type": "code",
   "execution_count": null,
   "id": "24d24724",
   "metadata": {},
   "outputs": [],
   "source": [
    "# 12. Implement a recursive function to compute the nth Fibonacci number.\n",
    "\n",
    "Ans. \n",
    "\n",
    "def fibonacci(n):\n",
    "    # Base cases: Fibonacci of 0 is 0, Fibonacci of 1 is 1\n",
    "    if n == 0:\n",
    "        return 0\n",
    "    elif n == 1:\n",
    "        return 1\n",
    "    # Recursive case: Fibonacci(n) = Fibonacci(n-1) + Fibonacci(n-2)\n",
    "    else:\n",
    "        return fibonacci(n - 1) + fibonacci(n - 2)\n",
    "\n",
    "# Example usage:\n",
    "number = 9\n",
    "result = fibonacci(number)\n",
    "print(f\"The {number}th Fibonacci number is {result}\")\n",
    "# output : The 9th Fibonacci number is 34"
   ]
  },
  {
   "cell_type": "code",
   "execution_count": null,
   "id": "f15945eb",
   "metadata": {},
   "outputs": [],
   "source": [
    "# 13. Create a recursive function to find the sum of all the elements in a given list.\n",
    "\n",
    "Ans. \n",
    "\n",
    "def recur_sum(lst):\n",
    "    # Base case: an empty list has a sum of 0\n",
    "    if not lst:\n",
    "        return 0\n",
    "    # Recursive case: sum = first element + sum of the rest of the list\n",
    "    else:\n",
    "        return lst[0] + recur_sum(lst[1:])\n",
    "\n",
    "# Ex:\n",
    "l3 = [1, 2, 8, 4, 5, 6, 6, 3, 1, 5, 8, 9]\n",
    "result = recur_sum(l3)\n",
    "print(f\"The sum of the elements in the list is {result}\")\n",
    "# output : The sum of the elements in the list is 58"
   ]
  },
  {
   "cell_type": "code",
   "execution_count": null,
   "id": "52936e5c",
   "metadata": {},
   "outputs": [],
   "source": [
    "# 14. Write a recursive function to determine whether a given string is a palindrome.\n",
    "\n",
    "Ans. \n",
    "\n",
    "def palindrome(s):\n",
    "    # Base case: an empty string or a string with one character is a palindrome\n",
    "    if len(s) <= 1:\n",
    "        return True\n",
    "    # Recursive case: check if the first and last characters are the same\n",
    "    elif s[0] == s[-1]:\n",
    "        # Call the function recursively on the substring excluding the first and last characters\n",
    "        return palindrome(s[1:-1])\n",
    "    else:\n",
    "        return False\n",
    "\n",
    "# Example usage:\n",
    "string1 = \"radar\"\n",
    "string2 = \"hello\"\n",
    "\n",
    "print(f\"Is '{string1}' a palindrome? {is_palindrome(string1)}\")\n",
    "print(f\"Is '{string2}' a palindrome? {is_palindrome(string2)}\")\n",
    "# output : Is 'radar' a palindrome? True\n",
    "# Is 'hello' a palindrome? False"
   ]
  },
  {
   "cell_type": "code",
   "execution_count": null,
   "id": "072d8bfb",
   "metadata": {},
   "outputs": [],
   "source": [
    "# 15. Implement a recursive function to find the greatest common divisor (GCD) of two positive integers.\n",
    "\n",
    "Ans. \n",
    "\n",
    "def gcd(a, b):\n",
    "    # Base case: GCD(a, 0) = a, GCD(0, b) = b\n",
    "    if b == 0:\n",
    "        return a\n",
    "    # Recursive case: GCD(a, b) = GCD(b, a % b)\n",
    "    else:\n",
    "        return gcd(b, a % b)\n",
    "\n",
    "# Example usage:\n",
    "num1 = 48\n",
    "num2 = 18\n",
    "\n",
    "result = gcd(num1, num2)\n",
    "print(f\"The GCD of {num1} and {num2} is {result}\")\n",
    "# output : The GCD of 48 and 18 is 6"
   ]
  },
  {
   "cell_type": "code",
   "execution_count": null,
   "id": "289c589f",
   "metadata": {},
   "outputs": [],
   "source": []
  }
 ],
 "metadata": {
  "kernelspec": {
   "display_name": "Python 3 (ipykernel)",
   "language": "python",
   "name": "python3"
  },
  "language_info": {
   "codemirror_mode": {
    "name": "ipython",
    "version": 3
   },
   "file_extension": ".py",
   "mimetype": "text/x-python",
   "name": "python",
   "nbconvert_exporter": "python",
   "pygments_lexer": "ipython3",
   "version": "3.10.1"
  }
 },
 "nbformat": 4,
 "nbformat_minor": 5
}
