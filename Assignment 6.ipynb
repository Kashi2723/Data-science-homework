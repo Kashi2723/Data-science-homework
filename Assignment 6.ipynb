{
 "cells": [
  {
   "cell_type": "code",
   "execution_count": 2,
   "id": "f958008c",
   "metadata": {},
   "outputs": [
    {
     "name": "stdout",
     "output_type": "stream",
     "text": [
      "The python Keywords are: ['False', 'None', 'True', 'and', 'as', 'assert', 'async', 'await', 'break', 'class', 'continue', 'def', 'del', 'elif', 'else', 'except', 'finally', 'for', 'from', 'global', 'if', 'import', 'in', 'is', 'lambda', 'nonlocal', 'not', 'or', 'pass', 'raise', 'return', 'try', 'while', 'with', 'yield']\n"
     ]
    }
   ],
   "source": [
    "# 1. What are keywords in python? using the keyword library,\n",
    "print all the python keywords.\n",
    "\n",
    "Ans. Keywords in Python are pre-defined words that can not be used as a \n",
    "variable name, function name, or any other identifier.\n",
    "import keyword\n",
    "\n",
    "print(\"The python Keywords are:\",keyword.kwlist)"
   ]
  },
  {
   "cell_type": "code",
   "execution_count": null,
   "id": "b3517116",
   "metadata": {},
   "outputs": [],
   "source": [
    "# 2. What are the rules to create variables in python ?\n",
    "\n",
    "Ans. A variable can have a short name (like x and y) or a more descriptive name (age, carname, total_volume). \n",
    "Rules for Python variables:\n",
    "1. A variable name must start with a letter or the underscore character\n",
    "2. A variable name cannot start with a number\n",
    "3. A variable name can only contain alpha-numeric characters and underscores (A-z, 0-9, and _ )\n",
    "4. Variable names are case-sensitive (age, Age and AGE are three different variables)\n",
    "5. A variable name cannot be any of the Python keywords."
   ]
  },
  {
   "cell_type": "code",
   "execution_count": null,
   "id": "5efc5439",
   "metadata": {},
   "outputs": [],
   "source": [
    "# 3. What are the standards and conventions followed for the nomenclature\n",
    "of variables in python to improve code readability and maintainability?\n",
    "\n",
    "Ans. 1. Use descriptive names. ex: sum,total,names.\n",
    "2. use lowercases with underscores. ex: mobile_number.\n",
    "3. Avoid single-character. ex: not to use a = 10.\n",
    "4. Be consistent. \n",
    "5. Avoid reserved words. ex: avoid keywords."
   ]
  },
  {
   "cell_type": "code",
   "execution_count": null,
   "id": "abaf8767",
   "metadata": {},
   "outputs": [],
   "source": [
    "# 4. What will happen if a keyword is used as a variable name?\n",
    "\n",
    "Ans. It will give a syntax error, as it is already a pre-defined keyword."
   ]
  },
  {
   "cell_type": "code",
   "execution_count": null,
   "id": "1b673ee6",
   "metadata": {},
   "outputs": [],
   "source": [
    "# 5. For what purpose def keyword is used?\n",
    "\n",
    "Ans. def keyword is used for denoting functions."
   ]
  },
  {
   "cell_type": "code",
   "execution_count": null,
   "id": "867a12f0",
   "metadata": {},
   "outputs": [],
   "source": [
    "# 6. What is the operation of this special character ‘\\’?\n",
    "\n",
    "Ans. In Python strings, the backslash \"\\\" is a special character, \n",
    "also called the \"escape\" character, used to escape the very next character.\n",
    "ex: print(\"\\\"'\")"
   ]
  },
  {
   "cell_type": "code",
   "execution_count": null,
   "id": "6e975e05",
   "metadata": {},
   "outputs": [],
   "source": [
    "# 7. Give an example of the following conditions:\n",
    "\n",
    "Ans. (i) Homogeneous list : same type of data type.\n",
    "names = [\"kashish\",\"shukla\",\"amazon\",\"company\"]\n",
    "\n",
    "(ii) Heterogeneous set : muliple type of data type. ex: \n",
    "In the below set, it consists, name of the student, age, mobile number and package of the student. \n",
    "student = {\"Kashish\",25,987654321,9.99}\n",
    "\n",
    "(iii) Homogeneous tuple : same type of data types.\n",
    "city = (\"Bhopal\",\"Mumbai\",\"Hyderabad\",\"Rajasthan\")"
   ]
  },
  {
   "cell_type": "code",
   "execution_count": 21,
   "id": "88e85a4d",
   "metadata": {},
   "outputs": [
    {
     "name": "stdout",
     "output_type": "stream",
     "text": [
      "[1, 2, 3, 4]\n"
     ]
    },
    {
     "ename": "TypeError",
     "evalue": "'tuple' object does not support item assignment",
     "output_type": "error",
     "traceback": [
      "\u001b[1;31m---------------------------------------------------------------------------\u001b[0m",
      "\u001b[1;31mTypeError\u001b[0m                                 Traceback (most recent call last)",
      "Cell \u001b[1;32mIn[21], line 6\u001b[0m\n\u001b[0;32m      3\u001b[0m \u001b[38;5;28mprint\u001b[39m(my_list)\n\u001b[0;32m      5\u001b[0m tuple1 \u001b[38;5;241m=\u001b[39m (\u001b[38;5;241m0\u001b[39m, \u001b[38;5;241m1\u001b[39m, \u001b[38;5;241m2\u001b[39m, \u001b[38;5;241m3\u001b[39m) \n\u001b[1;32m----> 6\u001b[0m \u001b[43mtuple1\u001b[49m\u001b[43m[\u001b[49m\u001b[38;5;241;43m0\u001b[39;49m\u001b[43m]\u001b[49m \u001b[38;5;241m=\u001b[39m \u001b[38;5;241m4\u001b[39m\n\u001b[0;32m      7\u001b[0m \u001b[38;5;28mprint\u001b[39m(tuple1)\n",
      "\u001b[1;31mTypeError\u001b[0m: 'tuple' object does not support item assignment"
     ]
    }
   ],
   "source": [
    "# 8. Explain the mutable and immutable data types with proper explanation & examples.\n",
    "\n",
    "Ans. In python, there are different types of data types.\n",
    "For example: int, float, bool, string, list, set, dict and tuple.\n",
    "    \n",
    "int, float, bool, string, list, set and dict are mutable data types,\n",
    "it means they can be changed after it is created.\n",
    "Example :\n",
    "my_list = [1, 2, 3]\n",
    "my_list.append(4)\n",
    "print(my_list)\n",
    "\n",
    "On the other hand, Tuple is immutable data types,\n",
    "it means it cannot be changed after it is created.\n",
    "\n",
    "Example :\n",
    "tuple1 = (0, 1, 2, 3) \n",
    "tuple1[0] = 4\n",
    "print(tuple1)"
   ]
  },
  {
   "cell_type": "code",
   "execution_count": 59,
   "id": "444daaba",
   "metadata": {},
   "outputs": [
    {
     "name": "stdout",
     "output_type": "stream",
     "text": [
      "     *\n",
      "    ***\n",
      "   *****\n",
      "  *******\n",
      " *********\n"
     ]
    }
   ],
   "source": [
    "# 9. Write a code to create the given structure using only for loop.\n",
    "\n",
    "Ans.\n",
    "a = 4\n",
    "while a>=0:\n",
    "    b = 0\n",
    "    while a>=b:\n",
    "        print(\" \",end = \"\")\n",
    "        b = b+1\n",
    "    c = 0\n",
    "    while (c<5-a):\n",
    "        print(\"*\", end = \"\")\n",
    "        c = c + 1\n",
    "    d = 0\n",
    "    while (d<5-a-1):\n",
    "        print(\"*\",end = \"\")\n",
    "        d = d + 1\n",
    "    print()\n",
    "    a = a - 1"
   ]
  },
  {
   "cell_type": "code",
   "execution_count": 93,
   "id": "6a99d4b2",
   "metadata": {},
   "outputs": [
    {
     "name": "stdout",
     "output_type": "stream",
     "text": [
      " |||||||||\n",
      "  |||||||\n",
      "   |||||\n",
      "    |||\n",
      "     |\n"
     ]
    }
   ],
   "source": [
    "# 10. Write a code to create the given structure using while loop.\n",
    "\n",
    "Ans.\n",
    "a = 4\n",
    "while a>=0:\n",
    "    b = 4\n",
    "    while a<=b:\n",
    "        print(\" \",end = \"\")\n",
    "        b = b - 1\n",
    "    c = 0\n",
    "    while (a>=c):\n",
    "        print(\"|\",end = \"\")\n",
    "        c = c + 1\n",
    "    d = 0\n",
    "    while (a>=d+1):\n",
    "        print(\"|\",end = \"\")\n",
    "        d = d+1\n",
    "    print()\n",
    "    a = a - 1"
   ]
  },
  {
   "cell_type": "code",
   "execution_count": null,
   "id": "571b2f6b",
   "metadata": {},
   "outputs": [],
   "source": []
  },
  {
   "cell_type": "code",
   "execution_count": null,
   "id": "62dea9a5",
   "metadata": {},
   "outputs": [],
   "source": []
  },
  {
   "cell_type": "code",
   "execution_count": null,
   "id": "b908bf73",
   "metadata": {},
   "outputs": [],
   "source": []
  }
 ],
 "metadata": {
  "kernelspec": {
   "display_name": "Python 3 (ipykernel)",
   "language": "python",
   "name": "python3"
  },
  "language_info": {
   "codemirror_mode": {
    "name": "ipython",
    "version": 3
   },
   "file_extension": ".py",
   "mimetype": "text/x-python",
   "name": "python",
   "nbconvert_exporter": "python",
   "pygments_lexer": "ipython3",
   "version": "3.10.1"
  }
 },
 "nbformat": 4,
 "nbformat_minor": 5
}
