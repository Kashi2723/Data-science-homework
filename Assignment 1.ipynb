{
 "cells": [
  {
   "cell_type": "raw",
   "id": "5a9b8e39",
   "metadata": {},
   "source": [
    "# 1. In the below elements, which of them are values or an expression? eg:- values can be\n",
    "integer or string and expressions will be mathematical operators.\n",
    "\n",
    "* : expressions\n",
    "'hello' : values\n",
    "-87.8 : values\n",
    "- : expressions\n",
    "/ : expressions\n",
    "+ : expressions\n",
    "6 : values"
   ]
  },
  {
   "cell_type": "raw",
   "id": "665e5efb",
   "metadata": {},
   "source": [
    "2. What is the difference between string and variable?\n",
    "\n",
    "String : String is a type of information we store in a variable. It is an alphanumeric series. A string is usually enclosed with \"\"\n",
    "Variable : A variable is a store of information.\n",
    "\n",
    "Eg : String x = \"I live in Madhya Pradesh\"\n",
    "x is a variable, and we declared it as a string."
   ]
  },
  {
   "cell_type": "raw",
   "id": "0aff195d",
   "metadata": {},
   "source": [
    "3. Describe three different data types.\n",
    "\n",
    "Float : Float is a type of data type in which decimal is used or decimal numbers are referred as float data type.\n",
    "string :  A alphanumeric series\n",
    "Integer : A numeric number"
   ]
  },
  {
   "cell_type": "raw",
   "id": "112cdb3b",
   "metadata": {},
   "source": [
    "4. What is an expression made up of? What do all expressions do?\n",
    "\n",
    "expressions are made up of numbers or numeric values with mathematical operators/sign. \n",
    "All expressions perform mathematical operations.\n",
    "ex : 2+2 = 4 (here '+' is a mathematical operator performed a mathematical operation of 'adding numbers')"
   ]
  },
  {
   "cell_type": "raw",
   "id": "48d22e74",
   "metadata": {},
   "source": [
    "5. This assignment statements, like spam = 10. What is the difference between an\n",
    "expression and a statement?\n",
    "\n",
    "spam = 10, it is a statement, because there is no mathematical operator is used. "
   ]
  },
  {
   "cell_type": "raw",
   "id": "498c458d",
   "metadata": {},
   "source": [
    "6. After running the following code, what does the variable bacon contain?\n",
    "bacon = 22\n",
    "bacon + 1\n",
    "\n",
    "22 is a value of bacon"
   ]
  },
  {
   "cell_type": "code",
   "execution_count": 8,
   "id": "d0eea66e",
   "metadata": {},
   "outputs": [
    {
     "name": "stdout",
     "output_type": "stream",
     "text": [
      "22\n"
     ]
    }
   ],
   "source": [
    "bacon = 22\n",
    "bacon + 1\n",
    "print(bacon)"
   ]
  },
  {
   "cell_type": "raw",
   "id": "fc89facb",
   "metadata": {},
   "source": [
    "7. What should the values of the following two terms be?\n",
    "'spam'+ 'spamspam'\n",
    "'spam'*3\n",
    "\n",
    "'spamspamspam'\n",
    "'spamspamspam'"
   ]
  },
  {
   "cell_type": "code",
   "execution_count": 13,
   "id": "7f9853fc",
   "metadata": {},
   "outputs": [
    {
     "data": {
      "text/plain": [
       "'spamspamspam'"
      ]
     },
     "execution_count": 13,
     "metadata": {},
     "output_type": "execute_result"
    }
   ],
   "source": [
    "'spam' + 'spamspam'\n",
    "'spam'*3"
   ]
  },
  {
   "cell_type": "raw",
   "id": "722375fc",
   "metadata": {},
   "source": [
    "8. Why is eggs a valid variable name while 100 is invalid?\n",
    "\n",
    "eggs is a valid variable, while 100 is invalid because the variable cannot begin with numbers."
   ]
  },
  {
   "cell_type": "raw",
   "id": "6068bb2a",
   "metadata": {},
   "source": [
    "9. What three functions can be used to get the integer, floating-point number, or string\n",
    "version of a value?\n",
    "\n",
    "Integer : int() \n",
    "Floating-point number : float()\n",
    "string : str()"
   ]
  },
  {
   "cell_type": "code",
   "execution_count": 14,
   "id": "97870507",
   "metadata": {},
   "outputs": [
    {
     "name": "stdout",
     "output_type": "stream",
     "text": [
      "<class 'int'>\n"
     ]
    }
   ],
   "source": [
    "a = 10\n",
    "print(type(a))"
   ]
  },
  {
   "cell_type": "code",
   "execution_count": 15,
   "id": "359ee52e",
   "metadata": {},
   "outputs": [
    {
     "name": "stdout",
     "output_type": "stream",
     "text": [
      "<class 'str'>\n"
     ]
    }
   ],
   "source": [
    "a = str(a)\n",
    "print(type(a))"
   ]
  },
  {
   "cell_type": "code",
   "execution_count": 16,
   "id": "5e63598e",
   "metadata": {},
   "outputs": [
    {
     "name": "stdout",
     "output_type": "stream",
     "text": [
      "<class 'float'>\n"
     ]
    }
   ],
   "source": [
    "a = float(a)\n",
    "print(type(a))"
   ]
  },
  {
   "cell_type": "raw",
   "id": "ce3ea9b4",
   "metadata": {},
   "source": [
    "10. Why does this expression cause an error? How can you fix it?\n",
    "'I have eaten' + 99 + 'burritos.'\n",
    "\n",
    "This expression cause an error because string and integers can not be added.\n",
    "We will fix this by putting quotes in the numbers."
   ]
  },
  {
   "cell_type": "code",
   "execution_count": 17,
   "id": "2589d9ce",
   "metadata": {},
   "outputs": [
    {
     "ename": "TypeError",
     "evalue": "can only concatenate str (not \"int\") to str",
     "output_type": "error",
     "traceback": [
      "\u001b[1;31m---------------------------------------------------------------------------\u001b[0m",
      "\u001b[1;31mTypeError\u001b[0m                                 Traceback (most recent call last)",
      "Cell \u001b[1;32mIn[17], line 1\u001b[0m\n\u001b[1;32m----> 1\u001b[0m \u001b[38;5;124;43m'\u001b[39;49m\u001b[38;5;124;43mI have eaten\u001b[39;49m\u001b[38;5;124;43m'\u001b[39;49m\u001b[43m \u001b[49m\u001b[38;5;241;43m+\u001b[39;49m\u001b[43m \u001b[49m\u001b[38;5;241;43m99\u001b[39;49m \u001b[38;5;241m+\u001b[39m \u001b[38;5;124m'\u001b[39m\u001b[38;5;124mburritos.\u001b[39m\u001b[38;5;124m'\u001b[39m\n",
      "\u001b[1;31mTypeError\u001b[0m: can only concatenate str (not \"int\") to str"
     ]
    }
   ],
   "source": [
    "'I have eaten' + 99 + 'burritos.'"
   ]
  },
  {
   "cell_type": "code",
   "execution_count": 24,
   "id": "8ce071d7",
   "metadata": {},
   "outputs": [
    {
     "data": {
      "text/plain": [
       "'I have eaten99burritos.'"
      ]
     },
     "execution_count": 24,
     "metadata": {},
     "output_type": "execute_result"
    }
   ],
   "source": [
    "'I have eaten' + '99' + 'burritos.'"
   ]
  },
  {
   "cell_type": "code",
   "execution_count": null,
   "id": "3c0a2bef",
   "metadata": {},
   "outputs": [],
   "source": []
  }
 ],
 "metadata": {
  "kernelspec": {
   "display_name": "Python 3 (ipykernel)",
   "language": "python",
   "name": "python3"
  },
  "language_info": {
   "codemirror_mode": {
    "name": "ipython",
    "version": 3
   },
   "file_extension": ".py",
   "mimetype": "text/x-python",
   "name": "python",
   "nbconvert_exporter": "python",
   "pygments_lexer": "ipython3",
   "version": "3.10.1"
  }
 },
 "nbformat": 4,
 "nbformat_minor": 5
}
