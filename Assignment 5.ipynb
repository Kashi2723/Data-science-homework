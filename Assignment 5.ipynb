{
 "cells": [
  {
   "cell_type": "code",
   "execution_count": null,
   "id": "e42aeed3",
   "metadata": {},
   "outputs": [],
   "source": [
    "# 1. What does an empty dictionary's code look like?\n",
    "\n",
    "Ans. {} Empty dictionary will be reflected as curly brackets."
   ]
  },
  {
   "cell_type": "code",
   "execution_count": null,
   "id": "227c1c9e",
   "metadata": {},
   "outputs": [],
   "source": [
    "# 2. What is the value of a dictionary value with the key 'foo' and the value 42?\n",
    "\n",
    "Ans. {'foo': 42}\n",
    "The value of key 'foo' is 42."
   ]
  },
  {
   "cell_type": "code",
   "execution_count": null,
   "id": "2a981642",
   "metadata": {},
   "outputs": [],
   "source": [
    "# 3. What is the most significant distinction between a dictionary and a list ?\n",
    "\n",
    "Ans. dictionary is denoted with curly brackets {}, and it has a key and a value pair. \n",
    "Whereas, list is denoted with square brackets [], it only have values."
   ]
  },
  {
   "cell_type": "code",
   "execution_count": null,
   "id": "54095760",
   "metadata": {},
   "outputs": [],
   "source": [
    "# 4. What happens if you try to access spam['foo'] if spam is {'bar':100}?\n",
    "\n",
    "Ans. It will throw a key error, as there is no key named 'foo'.\n"
   ]
  },
  {
   "cell_type": "code",
   "execution_count": null,
   "id": "c75e03a9",
   "metadata": {},
   "outputs": [],
   "source": [
    "# 5. If a dictionary is stored in spam, what is the difference between the expressions 'cat' in spam and\n",
    "'cat' in spam.keys()?\n",
    "\n",
    "Ans. 'cat' in spam and 'cat' in spam.keys() are same, as both the expression will print\n",
    "only keys of spam."
   ]
  },
  {
   "cell_type": "code",
   "execution_count": 8,
   "id": "9466d1c6",
   "metadata": {},
   "outputs": [],
   "source": [
    "# 6. If a dictionary is stored in spam, what is the difference between the expressions 'cat' in spam and\n",
    "'cat' in spam.values()?\n",
    "\n",
    "Ans. 'cat' in spam and 'cat' in spam.values() are different expressions, \n",
    "as 'cat' in spam will print keys, and 'cat' in spam.values() will print \n",
    "values of a spam.\n"
   ]
  },
  {
   "cell_type": "code",
   "execution_count": 31,
   "id": "126c4e29",
   "metadata": {},
   "outputs": [
    {
     "data": {
      "text/plain": [
       "'black'"
      ]
     },
     "execution_count": 31,
     "metadata": {},
     "output_type": "execute_result"
    }
   ],
   "source": [
    "# 7. What is a shortcut for the following code ?\n",
    "\n",
    "Ans. if 'color' not in spam:\n",
    "    spam['color'] = 'black';\n",
    "SHORTCUT:\n",
    "spam.setdefault('color','black')"
   ]
  },
  {
   "cell_type": "code",
   "execution_count": null,
   "id": "17772b47",
   "metadata": {},
   "outputs": [],
   "source": [
    "# 8. How do you \"pretty print\" dictionary values using which module and function?\n",
    "\n",
    "Ans. The module is pprint.\n",
    "The functions are pprint.pprint() and pprint.pformat()."
   ]
  },
  {
   "cell_type": "code",
   "execution_count": null,
   "id": "93204e08",
   "metadata": {},
   "outputs": [],
   "source": []
  },
  {
   "cell_type": "code",
   "execution_count": null,
   "id": "2233bb34",
   "metadata": {},
   "outputs": [],
   "source": []
  }
 ],
 "metadata": {
  "kernelspec": {
   "display_name": "Python 3 (ipykernel)",
   "language": "python",
   "name": "python3"
  },
  "language_info": {
   "codemirror_mode": {
    "name": "ipython",
    "version": 3
   },
   "file_extension": ".py",
   "mimetype": "text/x-python",
   "name": "python",
   "nbconvert_exporter": "python",
   "pygments_lexer": "ipython3",
   "version": "3.10.1"
  }
 },
 "nbformat": 4,
 "nbformat_minor": 5
}
