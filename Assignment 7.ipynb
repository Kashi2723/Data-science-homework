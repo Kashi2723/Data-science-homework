{
 "cells": [
  {
   "cell_type": "code",
   "execution_count": 15,
   "id": "65ce559a",
   "metadata": {},
   "outputs": [
    {
     "name": "stdout",
     "output_type": "stream",
     "text": [
      "Enter 1 number: 27\n",
      "Enter 2 number: 23\n",
      "First variable is 27 & second variable is 23 .\n",
      "Addition: 27 + 23 = 50\n",
      "Subtraction: 27 - 23 = 4\n",
      "Multiplication: 27 * 23 = 621\n",
      "Division: 27 / 23 = 1.173913043478261\n"
     ]
    }
   ],
   "source": [
    "# 1. Create two int type variables, apply addition, subtraction, division and multiplications\n",
    "and store the results in variables. Then print the data in the following format by calling the\n",
    "variables:\n",
    "\n",
    "Ans. \n",
    "a = int(input(\"Enter 1 number: \"))\n",
    "b = int(input(\"Enter 2 number: \"))\n",
    "c = a+b\n",
    "if a>b:\n",
    "    d = a - b\n",
    "else:\n",
    "    d = b -a\n",
    "e = a*b\n",
    "if a>b:\n",
    "    f = a/b\n",
    "else:\n",
    "    f = b/a\n",
    "print(\"First variable is\",a,\"&\",\"second variable is\",b,\".\")\n",
    "print(\"Addition:\",a,\"+\",b,\"=\",c)\n",
    "print(\"Subtraction:\",a,\"-\",b,\"=\",d)\n",
    "print(\"Multiplication:\",a,\"*\",b,\"=\",e)\n",
    "print(\"Division:\",a,\"/\",b,\"=\",f)"
   ]
  },
  {
   "cell_type": "code",
   "execution_count": 16,
   "id": "b57e8a7a",
   "metadata": {},
   "outputs": [
    {
     "name": "stdout",
     "output_type": "stream",
     "text": [
      "Enter 1 number: 23\n",
      "Enter 2 number: 27\n",
      "First variable is 23 & second variable is 27 .\n",
      "Addition: 23 + 27 = 50\n",
      "Subtraction: 23 - 27 = 4\n",
      "Multiplication: 23 * 27 = 621\n",
      "Division: 23 / 27 = 1.173913043478261\n"
     ]
    }
   ],
   "source": [
    "a = int(input(\"Enter 1 number: \"))\n",
    "b = int(input(\"Enter 2 number: \"))\n",
    "c = a+b\n",
    "if a>b:\n",
    "    d = a - b\n",
    "else:\n",
    "    d = b -a\n",
    "e = a*b\n",
    "if a>b:\n",
    "    f = a/b\n",
    "else:\n",
    "    f = b/a\n",
    "print(\"First variable is\",a,\"&\",\"second variable is\",b,\".\")\n",
    "print(\"Addition:\",a,\"+\",b,\"=\",c)\n",
    "print(\"Subtraction:\",a,\"-\",b,\"=\",d)\n",
    "print(\"Multiplication:\",a,\"*\",b,\"=\",e)\n",
    "print(\"Division:\",a,\"/\",b,\"=\",f)"
   ]
  },
  {
   "cell_type": "code",
   "execution_count": null,
   "id": "6bb946b4",
   "metadata": {},
   "outputs": [],
   "source": [
    "# 2. What is the difference between the following operators:\n",
    "(i) ‘/’ & ‘//’ : \"/\" denotes with division. ex: 4/2 = 2.\n",
    "\"//\" denotes with floor division or rounding off the decimal number. ex: 10//3 = 3\n",
    "(ii) ‘**’ & ‘^’ : \"**\" denotes for calculating the power of a number. 5**3 = 125.\n",
    "\"^\" denotes with Bitwise XOR operator. ex: it converts both number in binary, \n",
    "then perform XOR operator, and then convert it back into decimal number."
   ]
  },
  {
   "cell_type": "code",
   "execution_count": null,
   "id": "7763c034",
   "metadata": {},
   "outputs": [],
   "source": [
    "# 3. List the logical operator.\n",
    "\n",
    "Ans. 1. and : Returns True if both statements are true.\n",
    "2. or : Returns True if one of the statements is true.\n",
    "3. not : Reverse the result, returns False if the result is true."
   ]
  },
  {
   "cell_type": "code",
   "execution_count": 17,
   "id": "9aa88fda",
   "metadata": {},
   "outputs": [],
   "source": [
    "# 4. Explain right shift operator and left shift operator with examples.\n",
    "\n",
    "Ans. right shift operator: The >> operator moves each bit the specified number of times to the right. \n",
    "Empty holes at the left are filled with 0's.\n",
    "If you move each bit 2 times to the right, 8 becomes 2:\n",
    " 8 = 0000000000001000\n",
    "becomes\n",
    " 2 = 0000000000000010\n",
    "\n",
    "left shift operator : The << operator inserts the specified number of 0's (in this case 2) from the right and\n",
    "let the same amount of leftmost bits fall off:\n",
    "If you push 00 in from the left:\n",
    " 3 = 0000000000000011\n",
    "becomes\n",
    "12 = 0000000000001100\n"
   ]
  },
  {
   "cell_type": "code",
   "execution_count": 30,
   "id": "488b4cff",
   "metadata": {},
   "outputs": [
    {
     "name": "stdout",
     "output_type": "stream",
     "text": [
      "[0, 1, 2, 3, 4, 5, 6, 7, 8, 9, 10, 11, 12, 13, 14]\n",
      "10 is present\n"
     ]
    }
   ],
   "source": [
    "# 5. Create a list containing int type data of length 15. Then write a code to check if 10 is\n",
    "present in the list or not.\n",
    "\n",
    "Ans.\n",
    "l1 = []\n",
    "for i in range(15):\n",
    "    l1.append(i)\n",
    "print(l1)\n",
    "flag = 0\n",
    "for j in l1:\n",
    "    if j == 10:\n",
    "        flag = 1\n",
    "        break\n",
    "\n",
    "if flag == 1:\n",
    "    print(\"10 is present\")\n",
    "else:\n",
    "    print(\"10 is not present\")"
   ]
  },
  {
   "cell_type": "code",
   "execution_count": null,
   "id": "26d4172b",
   "metadata": {},
   "outputs": [],
   "source": []
  },
  {
   "cell_type": "code",
   "execution_count": null,
   "id": "87face9d",
   "metadata": {},
   "outputs": [],
   "source": []
  }
 ],
 "metadata": {
  "kernelspec": {
   "display_name": "Python 3 (ipykernel)",
   "language": "python",
   "name": "python3"
  },
  "language_info": {
   "codemirror_mode": {
    "name": "ipython",
    "version": 3
   },
   "file_extension": ".py",
   "mimetype": "text/x-python",
   "name": "python",
   "nbconvert_exporter": "python",
   "pygments_lexer": "ipython3",
   "version": "3.10.1"
  }
 },
 "nbformat": 4,
 "nbformat_minor": 5
}
