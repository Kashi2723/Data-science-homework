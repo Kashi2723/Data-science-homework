{
 "cells": [
  {
   "cell_type": "code",
   "execution_count": null,
   "id": "b8bf6e1e",
   "metadata": {},
   "outputs": [],
   "source": [
    "# 1. what exactly is []?\n",
    "\n",
    "Ans. [] are square brackets, and is a symbol of list."
   ]
  },
  {
   "cell_type": "code",
   "execution_count": 3,
   "id": "4eb4ba28",
   "metadata": {},
   "outputs": [
    {
     "data": {
      "text/plain": [
       "[2, 4, 'hello', 8, 10]"
      ]
     },
     "execution_count": 3,
     "metadata": {},
     "output_type": "execute_result"
    }
   ],
   "source": [
    "# 2. In a list of values stored in a variable called spam, how would you assign\n",
    "the value \"hello\" as the third value ?\n",
    "(Assume[2,4,6,6,10] are in spam.)\n",
    "\n",
    "Ans.\n",
    "spam = [2,4,6,8,10]\n",
    "spam[2] = \"hello\"\n",
    "spam"
   ]
  },
  {
   "cell_type": "code",
   "execution_count": 12,
   "id": "848920a1",
   "metadata": {},
   "outputs": [
    {
     "data": {
      "text/plain": [
       "[3]"
      ]
     },
     "execution_count": 12,
     "metadata": {},
     "output_type": "execute_result"
    }
   ],
   "source": [
    "\"\"\"Lets pretend the spam includes the list['a','b','c','d'] \n",
    "for the next three queries.\"\"\"\n",
    "# 3. what is the value of spam[int(int('3'*2)/11)]?\n",
    "\n",
    "Ans. d\n",
    "spam = [int(int('3'*2)/11)]\n",
    "spam\n"
   ]
  },
  {
   "cell_type": "code",
   "execution_count": null,
   "id": "f7c84277",
   "metadata": {},
   "outputs": [],
   "source": [
    "# 4. What is the value of spam[-1]?\n",
    "\n",
    "Ans. d\n"
   ]
  },
  {
   "cell_type": "code",
   "execution_count": null,
   "id": "cfa023af",
   "metadata": {},
   "outputs": [],
   "source": [
    "# 5. What is the value of spam[:2]?\n",
    "Ans. ['a','b']"
   ]
  },
  {
   "cell_type": "code",
   "execution_count": null,
   "id": "5cda0f96",
   "metadata": {},
   "outputs": [],
   "source": [
    "\"\"\"Lets pretend bacon has the list[3.14,'cat',11,'cat',True] \n",
    "for the next three questions.\"\"\"\n",
    "\n",
    "# 6. What is the value of bacon.index('cat')?\n",
    "\n",
    "Ans. 1"
   ]
  },
  {
   "cell_type": "code",
   "execution_count": null,
   "id": "cf6560f5",
   "metadata": {},
   "outputs": [],
   "source": [
    "# 7. How does bacon.append(99) change the look of the list\n",
    "value in bacon?\n",
    "\n",
    "Ans. [3.14, 'cat', 11, 'cat', True, 99]"
   ]
  },
  {
   "cell_type": "code",
   "execution_count": null,
   "id": "6cbc2fab",
   "metadata": {},
   "outputs": [],
   "source": [
    "# 8. How does bacon.remove('cat') change the look of the list in bacon ?\n",
    "\n",
    "Ans. [3.14, 11, 'cat', True, 99]"
   ]
  },
  {
   "cell_type": "code",
   "execution_count": 31,
   "id": "1605942d",
   "metadata": {},
   "outputs": [
    {
     "name": "stdout",
     "output_type": "stream",
     "text": [
      "[1, 2, 3, 4, 5, 6, 7, 8]\n",
      "[1, 2, 3, 4, 5, 6, 7, 8, 1, 2, 3, 4, 5, 6, 7, 8]\n"
     ]
    }
   ],
   "source": [
    "# 9. What are the list concatenation and list replication operators ?\n",
    "\n",
    "Ans. List concatenation : \"+\" is a List concatenation operator.\n",
    "Example : \n",
    "l1 = [1,2,3,4]\n",
    "l2 = [5,6,7,8]\n",
    "l3 = l1 + l2\n",
    "print(l3)\n",
    "\n",
    "List Replication : \"*\" is a List Replication operator.\n",
    "l4= l3*2\n",
    "print(l4)"
   ]
  },
  {
   "cell_type": "code",
   "execution_count": null,
   "id": "8a019897",
   "metadata": {},
   "outputs": [],
   "source": [
    "# 10. What is the difference between the list methods append() and insert() ?\n",
    "\n",
    "Ans. The difference is that with append, we just add a new entry at the end of the list. \n",
    "With insert(position, new_entry) we can create a new entry exactly in the position you want."
   ]
  },
  {
   "cell_type": "code",
   "execution_count": null,
   "id": "177bb8fe",
   "metadata": {},
   "outputs": [],
   "source": [
    "# 11. What are the two methods for removing items from a list ?\n",
    "\n",
    "Ans. remove() and pop()\n",
    "Example : \n",
    "list1 = [\"kash\",\"shukla\",27,\"data\",\"science\"]\n",
    "list1.remove(27), and so 27 will be removed\n",
    "\n",
    "and \n",
    "\n",
    "a = list1.pop(2) (2 is a index of the list item to be removed)\n",
    "And in this, at 2 index 27 is there, and so it will be shown once \n",
    "and then it will be deleted."
   ]
  },
  {
   "cell_type": "code",
   "execution_count": null,
   "id": "1ee571ae",
   "metadata": {},
   "outputs": [],
   "source": [
    "# 12. Describe how list values and string values are identical.\n",
    "\n",
    "Ans. List values and string values both have index numbers and they both are itterable."
   ]
  },
  {
   "cell_type": "code",
   "execution_count": null,
   "id": "e3962042",
   "metadata": {},
   "outputs": [],
   "source": [
    "# 13. What's the difference between tuple and lists ?\n",
    "\n",
    "Ans. The primary difference between tuples and lists is that \n",
    "tuples are immutable and written with (), as on the other hand, \n",
    "lists which are mutable and written with []. \n",
    "Therefore, it is possible to change a list but not a tuple."
   ]
  },
  {
   "cell_type": "code",
   "execution_count": 36,
   "id": "80e0c52f",
   "metadata": {},
   "outputs": [
    {
     "data": {
      "text/plain": [
       "(42,)"
      ]
     },
     "execution_count": 36,
     "metadata": {},
     "output_type": "execute_result"
    }
   ],
   "source": [
    "# 14. How do you type a tuple value that only contains the integer 42 ?\n",
    "\n",
    "Ans.\n",
    "t2 = (42,)\n",
    "t2"
   ]
  },
  {
   "cell_type": "code",
   "execution_count": 38,
   "id": "04a846f2",
   "metadata": {},
   "outputs": [
    {
     "name": "stdout",
     "output_type": "stream",
     "text": [
      "(1, 2, 3, 4, 5, 6)\n",
      "[1, 2, 3, 4, 5, 6]\n"
     ]
    }
   ],
   "source": [
    "# 15. How do you get a list value's tuple form ? \n",
    "# How do you get a tuple value's list form ?\n",
    "\n",
    "Ans. We can convert a list to a tuple using the built-in tuple() function, and\n",
    "convert the tuple to a list using the built-in list() function.\n",
    "\n",
    "l1 = [1,2,3,4,5,6]\n",
    "t1 = tuple(l1)\n",
    "print(t1)\n",
    "l2 = list(t1)\n",
    "print(l2)\n"
   ]
  },
  {
   "cell_type": "code",
   "execution_count": null,
   "id": "e3ea1218",
   "metadata": {},
   "outputs": [],
   "source": [
    "# 16. Variables that \"contain\" list values are not necessarily\n",
    "# lists themselves. Instead, what do they contain ?\n",
    "\n",
    "Ans. If a varible contains list values, they do not contain the actual list,\n",
    "it contains the pointers to the list."
   ]
  },
  {
   "cell_type": "code",
   "execution_count": null,
   "id": "a2275f6d",
   "metadata": {},
   "outputs": [],
   "source": [
    "# 17. How do you distinguish between copy.copy() and copy.deepcopy()?\n",
    "\n",
    "Ans. The difference between copy.copy() and copy.deepcopy() in Python is that \n",
    "the former creates a shallow copy of an object, while the latter creates a deep copy of an object.\n",
    "A shallow copy constructs a new compound object and then (to the extent possible) inserts references into it to the objects found in the original.\n",
    "A deep copy constructs a new compound object and then, recursively, inserts copies into it of the objects found in the original.\n"
   ]
  },
  {
   "cell_type": "code",
   "execution_count": null,
   "id": "e6eb82ea",
   "metadata": {},
   "outputs": [],
   "source": []
  }
 ],
 "metadata": {
  "kernelspec": {
   "display_name": "Python 3 (ipykernel)",
   "language": "python",
   "name": "python3"
  },
  "language_info": {
   "codemirror_mode": {
    "name": "ipython",
    "version": 3
   },
   "file_extension": ".py",
   "mimetype": "text/x-python",
   "name": "python",
   "nbconvert_exporter": "python",
   "pygments_lexer": "ipython3",
   "version": "3.10.1"
  }
 },
 "nbformat": 4,
 "nbformat_minor": 5
}
